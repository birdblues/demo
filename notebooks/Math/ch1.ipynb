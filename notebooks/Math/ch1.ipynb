{
 "cells": [
  {
   "cell_type": "markdown",
   "metadata": {},
   "source": [
    "# 수학기호"
   ]
  },
  {
   "cell_type": "markdown",
   "metadata": {},
   "source": [
    "## 그리스 문자"
   ]
  },
  {
   "cell_type": "markdown",
   "metadata": {},
   "source": [
    "| 그리스 문자 | 소문자 | LaTeX 명령어 | 대문자 | LaTeX 명령어 |\n",
    "|---------|---|---------------------|----|----------------|\n",
    "| 알파      | $\\alpha$ |`\\alpha`            |$A$    |`A`                 |\n",
    "| 베타      | $\\beta$   | `\\beta`          |$B$       | `B`                 |\n",
    "| 감마      | $\\gamma$   | `\\gamma`         |$\\Gamma$       | `\\Gamma`           |\n",
    "| 델타      | $\\delta$   | `\\delta`         |$\\Delta$       | `\\Delta`           |\n",
    "| 엡실론     | $\\epsilon$  | `\\epsilon`       |$E$     | `E`         |\n",
    "| 제타      | $\\zeta$   | `\\zeta`          |$Z$       | `Z`                 |\n",
    "| 에타      | $\\eta$   | `\\eta`           |$H$       | `H`                 |\n",
    "| 세타      | $\\theta$   | `\\theta` |$\\Theta$     | `\\Theta`       |\n",
    "| 요타       | $\\iota$  | `\\iota`          |$I$       | `I`                 |\n",
    "| 카파       | $\\kappa$  | `\\kappa` | $K$ | `K`            |\n",
    "| 람다      | $\\lambda$   | `\\lambda`        |$\\Lambda$       | `\\Lambda`          |\n",
    "| 뮤        | $\\mu$    | `\\mu`           |$M$        | `M`                 |\n",
    "| 뉴        | $\\nu$    | `\\nu`           |$N$        | `N`                 |\n",
    "| 크사       | $\\xi$  | `\\xi`             |$\\Xi$      | `\\Xi`              |\n",
    "| 오미크론    | $o$ | `o`                |$O$     | `O`                 |\n",
    "| 파이       | $\\pi$  | `\\pi`   |$\\Pi$     | `\\Pi`              |\n",
    "| 로        | $\\rho$   | `\\rho` |$P$     | `P`                 |\n",
    "| 시그마     | $\\sigma$  | `\\sigma`         |$\\Sigma$     | `\\Sigma`       |\n",
    "| 타우      | $\\tau$   | `\\tau`             |$T$     | `T`                 |\n",
    "| 업실론     | $\\upsilon$  | `\\upsilon`         |$\\Upsilon$     | `\\Upsilon`         |\n",
    "| 파이      | $\\phi$   | `\\phi`           |$\\Phi$     | `\\Phi`             |\n",
    "| 키       | $\\chi$    | `\\chi`            |$X$      | `X`                 |\n",
    "| 프사이    | $\\psi$   | `\\psi`             |$\\Psi$     | `\\Psi`             |\n",
    "| 오메가    | $\\omega$   | `\\omega`           |$\\Omega$     | `\\Omega`           |\n"
   ]
  },
  {
   "cell_type": "markdown",
   "metadata": {},
   "source": [
    "## 수열과 집합의 합과 곱"
   ]
  },
  {
   "cell_type": "markdown",
   "metadata": {},
   "source": [
    "### 수열"
   ]
  },
  {
   "cell_type": "markdown",
   "metadata": {},
   "source": [
    "$$ 1,2,3,4 $$"
   ]
  },
  {
   "cell_type": "markdown",
   "metadata": {},
   "source": [
    "$$ x_1, x_2, x_3, x_4, x_5, x_6 $$"
   ]
  },
  {
   "cell_type": "markdown",
   "metadata": {},
   "source": [
    "$$ x_1, x_2, \\ldots, x_N $$"
   ]
  },
  {
   "cell_type": "markdown",
   "metadata": {},
   "source": [
    "### 집합"
   ]
  },
  {
   "cell_type": "markdown",
   "metadata": {},
   "source": [
    "$$ \\{1, 2, 3, 4 \\} $$"
   ]
  },
  {
   "cell_type": "markdown",
   "metadata": {},
   "source": [
    "$$ \\{ x_1, x_2, x_3, x_4, x_5, x_6 \\} $$"
   ]
  },
  {
   "cell_type": "markdown",
   "metadata": {},
   "source": [
    "$$ \\{ x_1, x_2, \\ldots, x_N \\} $$"
   ]
  },
  {
   "cell_type": "markdown",
   "metadata": {},
   "source": [
    "$$ x_{1:N} $$"
   ]
  },
  {
   "cell_type": "markdown",
   "metadata": {},
   "source": [
    "$$ x \\in \\mathbb{R} $$"
   ]
  },
  {
   "cell_type": "markdown",
   "metadata": {},
   "source": [
    "$$ (x_1, x_2) \\in \\mathbb{R} \\times \\mathbb{R} $$"
   ]
  },
  {
   "cell_type": "markdown",
   "metadata": {},
   "source": [
    "$$ (x_1, x_2) \\in \\mathbb{R}^2 $$"
   ]
  },
  {
   "cell_type": "markdown",
   "metadata": {},
   "source": [
    "### 수열의 합과 곱"
   ]
  },
  {
   "cell_type": "markdown",
   "metadata": {},
   "source": [
    "$$ \\sum_{i=1}^{N} x_i = x_1 + x_2 + \\ldots + x_N $$"
   ]
  },
  {
   "cell_type": "markdown",
   "metadata": {},
   "source": [
    "$$ \\prod_{i=1}^{N} x_i = x_1 \\cdot x_2 \\cdot \\ldots \\cdot x_N $$"
   ]
  },
  {
   "cell_type": "markdown",
   "metadata": {},
   "source": [
    "$$ \\sum_{i=1}^4 i = 1 + 2 + 3 + 4 $$"
   ]
  },
  {
   "cell_type": "markdown",
   "metadata": {},
   "source": [
    "$$ \\sum_{k=1}^{9} 10k = 10 \\cdot 1 + 10 \\cdot 2 + \\cdots + 10 \\cdot 9 = 10 + 20 + \\cdots + 90 $$"
   ]
  },
  {
   "cell_type": "markdown",
   "metadata": {},
   "source": [
    "$$ \\prod_{i=10}^{20} i = 10 \\cdot 11 \\cdot \\ldots \\cdot 20 $$"
   ]
  },
  {
   "cell_type": "markdown",
   "metadata": {},
   "source": [
    "$$ \\sum_{i=1}^{N}\\left(\\sum_{j=1}^{M}x_{ij}\\right) = \\sum_{i=1}^{N}\\sum_{j=1}^{M}x_{ij} $$"
   ]
  },
  {
   "cell_type": "markdown",
   "metadata": {},
   "source": [
    "$$ \\begin{align*}\n",
    "\\sum_{i=1}^{2}\\sum_{j=1}^{3}(i+j) &= \\sum_{i=1}^{2}\\left(\\sum_{j=1}^{3}(i+j)\\right) \\\\\n",
    "&= \\sum_{i=1}^{2}\\left((i+1)+(i+2)+(i+3)\\right) \\\\\n",
    "&= \\left((1+1)+(1+2)+(1+3)\\right) + \\left((2+1)+(2+2)+(2+3)\\right)\n",
    "\\end{align*} $$"
   ]
  },
  {
   "cell_type": "markdown",
   "metadata": {},
   "source": []
  },
  {
   "cell_type": "code",
   "execution_count": null,
   "metadata": {},
   "outputs": [],
   "source": []
  }
 ],
 "metadata": {
  "kernelspec": {
   "display_name": "my_env",
   "language": "python",
   "name": "python3"
  },
  "language_info": {
   "name": "python",
   "version": "3.10.13"
  }
 },
 "nbformat": 4,
 "nbformat_minor": 2
}
